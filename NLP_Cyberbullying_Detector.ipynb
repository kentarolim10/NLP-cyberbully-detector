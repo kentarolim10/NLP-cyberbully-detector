{
 "cells": [
  {
   "cell_type": "code",
   "execution_count": 9,
   "metadata": {},
   "outputs": [],
   "source": [
    "import numpy as np\n",
    "import pandas as pd\n",
    "import matplotlib.pyplot as plt\n",
    "from pickle import dump, load\n",
    "\n",
    "from sklearn.model_selection import cross_val_score, cross_validate, train_test_split, GridSearchCV\n",
    "from sklearn.feature_extraction.text import TfidfVectorizer\n",
    "from sklearn.preprocessing import OneHotEncoder\n",
    "from sklearn.pipeline import Pipeline, make_pipeline\n",
    "from sklearn.compose import ColumnTransformer\n",
    "from sklearn.preprocessing import FunctionTransformer\n",
    "from sklearn.utils.class_weight import compute_class_weight\n",
    "\n",
    "from sklearn.svm import LinearSVC, SVC\n",
    "from sklearn.linear_model import LogisticRegression\n",
    "\n",
    "from sklearn.metrics import confusion_matrix, accuracy_score, precision_score, recall_score, f1_score, ConfusionMatrixDisplay"
   ]
  },
  {
   "cell_type": "code",
   "execution_count": 10,
   "metadata": {},
   "outputs": [
    {
     "data": {
      "text/html": [
       "<div>\n",
       "<style scoped>\n",
       "    .dataframe tbody tr th:only-of-type {\n",
       "        vertical-align: middle;\n",
       "    }\n",
       "\n",
       "    .dataframe tbody tr th {\n",
       "        vertical-align: top;\n",
       "    }\n",
       "\n",
       "    .dataframe thead th {\n",
       "        text-align: right;\n",
       "    }\n",
       "</style>\n",
       "<table border=\"1\" class=\"dataframe\">\n",
       "  <thead>\n",
       "    <tr style=\"text-align: right;\">\n",
       "      <th></th>\n",
       "      <th>tweet_text</th>\n",
       "      <th>cyberbullying_type</th>\n",
       "    </tr>\n",
       "  </thead>\n",
       "  <tbody>\n",
       "    <tr>\n",
       "      <th>0</th>\n",
       "      <td>In other words #katandandre, your food was cra...</td>\n",
       "      <td>not_cyberbullying</td>\n",
       "    </tr>\n",
       "    <tr>\n",
       "      <th>1</th>\n",
       "      <td>Why is #aussietv so white? #MKR #theblock #ImA...</td>\n",
       "      <td>not_cyberbullying</td>\n",
       "    </tr>\n",
       "    <tr>\n",
       "      <th>2</th>\n",
       "      <td>@XochitlSuckkks a classy whore? Or more red ve...</td>\n",
       "      <td>not_cyberbullying</td>\n",
       "    </tr>\n",
       "    <tr>\n",
       "      <th>3</th>\n",
       "      <td>@Jason_Gio meh. :P  thanks for the heads up, b...</td>\n",
       "      <td>not_cyberbullying</td>\n",
       "    </tr>\n",
       "    <tr>\n",
       "      <th>4</th>\n",
       "      <td>@RudhoeEnglish This is an ISIS account pretend...</td>\n",
       "      <td>not_cyberbullying</td>\n",
       "    </tr>\n",
       "    <tr>\n",
       "      <th>...</th>\n",
       "      <td>...</td>\n",
       "      <td>...</td>\n",
       "    </tr>\n",
       "    <tr>\n",
       "      <th>47687</th>\n",
       "      <td>Black ppl aren't expected to do anything, depe...</td>\n",
       "      <td>ethnicity</td>\n",
       "    </tr>\n",
       "    <tr>\n",
       "      <th>47688</th>\n",
       "      <td>Turner did not withhold his disappointment. Tu...</td>\n",
       "      <td>ethnicity</td>\n",
       "    </tr>\n",
       "    <tr>\n",
       "      <th>47689</th>\n",
       "      <td>I swear to God. This dumb nigger bitch. I have...</td>\n",
       "      <td>ethnicity</td>\n",
       "    </tr>\n",
       "    <tr>\n",
       "      <th>47690</th>\n",
       "      <td>Yea fuck you RT @therealexel: IF YOURE A NIGGE...</td>\n",
       "      <td>ethnicity</td>\n",
       "    </tr>\n",
       "    <tr>\n",
       "      <th>47691</th>\n",
       "      <td>Bro. U gotta chill RT @CHILLShrammy: Dog FUCK ...</td>\n",
       "      <td>ethnicity</td>\n",
       "    </tr>\n",
       "  </tbody>\n",
       "</table>\n",
       "<p>47692 rows × 2 columns</p>\n",
       "</div>"
      ],
      "text/plain": [
       "                                              tweet_text cyberbullying_type\n",
       "0      In other words #katandandre, your food was cra...  not_cyberbullying\n",
       "1      Why is #aussietv so white? #MKR #theblock #ImA...  not_cyberbullying\n",
       "2      @XochitlSuckkks a classy whore? Or more red ve...  not_cyberbullying\n",
       "3      @Jason_Gio meh. :P  thanks for the heads up, b...  not_cyberbullying\n",
       "4      @RudhoeEnglish This is an ISIS account pretend...  not_cyberbullying\n",
       "...                                                  ...                ...\n",
       "47687  Black ppl aren't expected to do anything, depe...          ethnicity\n",
       "47688  Turner did not withhold his disappointment. Tu...          ethnicity\n",
       "47689  I swear to God. This dumb nigger bitch. I have...          ethnicity\n",
       "47690  Yea fuck you RT @therealexel: IF YOURE A NIGGE...          ethnicity\n",
       "47691  Bro. U gotta chill RT @CHILLShrammy: Dog FUCK ...          ethnicity\n",
       "\n",
       "[47692 rows x 2 columns]"
      ]
     },
     "execution_count": 10,
     "metadata": {},
     "output_type": "execute_result"
    }
   ],
   "source": [
    "tweets_df = pd.read_csv(\"data/cyberbullying_tweets.csv\")\n",
    "tweets_df"
   ]
  },
  {
   "cell_type": "code",
   "execution_count": 11,
   "metadata": {},
   "outputs": [],
   "source": [
    "def convertToBullyClassification(cyberbullying_type):\n",
    "    return cyberbullying_type != \"not_cyberbullying\""
   ]
  },
  {
   "cell_type": "code",
   "execution_count": 12,
   "metadata": {},
   "outputs": [
    {
     "data": {
      "text/html": [
       "<div>\n",
       "<style scoped>\n",
       "    .dataframe tbody tr th:only-of-type {\n",
       "        vertical-align: middle;\n",
       "    }\n",
       "\n",
       "    .dataframe tbody tr th {\n",
       "        vertical-align: top;\n",
       "    }\n",
       "\n",
       "    .dataframe thead th {\n",
       "        text-align: right;\n",
       "    }\n",
       "</style>\n",
       "<table border=\"1\" class=\"dataframe\">\n",
       "  <thead>\n",
       "    <tr style=\"text-align: right;\">\n",
       "      <th></th>\n",
       "      <th>tweet_text</th>\n",
       "      <th>cyberbullying_type</th>\n",
       "    </tr>\n",
       "  </thead>\n",
       "  <tbody>\n",
       "    <tr>\n",
       "      <th>0</th>\n",
       "      <td>In other words #katandandre, your food was cra...</td>\n",
       "      <td>False</td>\n",
       "    </tr>\n",
       "    <tr>\n",
       "      <th>1</th>\n",
       "      <td>Why is #aussietv so white? #MKR #theblock #ImA...</td>\n",
       "      <td>False</td>\n",
       "    </tr>\n",
       "    <tr>\n",
       "      <th>2</th>\n",
       "      <td>@XochitlSuckkks a classy whore? Or more red ve...</td>\n",
       "      <td>False</td>\n",
       "    </tr>\n",
       "    <tr>\n",
       "      <th>3</th>\n",
       "      <td>@Jason_Gio meh. :P  thanks for the heads up, b...</td>\n",
       "      <td>False</td>\n",
       "    </tr>\n",
       "    <tr>\n",
       "      <th>4</th>\n",
       "      <td>@RudhoeEnglish This is an ISIS account pretend...</td>\n",
       "      <td>False</td>\n",
       "    </tr>\n",
       "    <tr>\n",
       "      <th>...</th>\n",
       "      <td>...</td>\n",
       "      <td>...</td>\n",
       "    </tr>\n",
       "    <tr>\n",
       "      <th>47687</th>\n",
       "      <td>Black ppl aren't expected to do anything, depe...</td>\n",
       "      <td>True</td>\n",
       "    </tr>\n",
       "    <tr>\n",
       "      <th>47688</th>\n",
       "      <td>Turner did not withhold his disappointment. Tu...</td>\n",
       "      <td>True</td>\n",
       "    </tr>\n",
       "    <tr>\n",
       "      <th>47689</th>\n",
       "      <td>I swear to God. This dumb nigger bitch. I have...</td>\n",
       "      <td>True</td>\n",
       "    </tr>\n",
       "    <tr>\n",
       "      <th>47690</th>\n",
       "      <td>Yea fuck you RT @therealexel: IF YOURE A NIGGE...</td>\n",
       "      <td>True</td>\n",
       "    </tr>\n",
       "    <tr>\n",
       "      <th>47691</th>\n",
       "      <td>Bro. U gotta chill RT @CHILLShrammy: Dog FUCK ...</td>\n",
       "      <td>True</td>\n",
       "    </tr>\n",
       "  </tbody>\n",
       "</table>\n",
       "<p>47692 rows × 2 columns</p>\n",
       "</div>"
      ],
      "text/plain": [
       "                                              tweet_text  cyberbullying_type\n",
       "0      In other words #katandandre, your food was cra...               False\n",
       "1      Why is #aussietv so white? #MKR #theblock #ImA...               False\n",
       "2      @XochitlSuckkks a classy whore? Or more red ve...               False\n",
       "3      @Jason_Gio meh. :P  thanks for the heads up, b...               False\n",
       "4      @RudhoeEnglish This is an ISIS account pretend...               False\n",
       "...                                                  ...                 ...\n",
       "47687  Black ppl aren't expected to do anything, depe...                True\n",
       "47688  Turner did not withhold his disappointment. Tu...                True\n",
       "47689  I swear to God. This dumb nigger bitch. I have...                True\n",
       "47690  Yea fuck you RT @therealexel: IF YOURE A NIGGE...                True\n",
       "47691  Bro. U gotta chill RT @CHILLShrammy: Dog FUCK ...                True\n",
       "\n",
       "[47692 rows x 2 columns]"
      ]
     },
     "execution_count": 12,
     "metadata": {},
     "output_type": "execute_result"
    }
   ],
   "source": [
    "tweets_df[\"cyberbullying_type\"] = tweets_df[\"cyberbullying_type\"].apply(convertToBullyClassification)\n",
    "tweets_df.rename(columns={\"cyberbullying_type\":\"is_cyberbullying\"})\n",
    "tweets_df"
   ]
  },
  {
   "cell_type": "code",
   "execution_count": 13,
   "metadata": {},
   "outputs": [
    {
     "name": "stdout",
     "output_type": "stream",
     "text": [
      "39747\n",
      "7945\n"
     ]
    }
   ],
   "source": [
    "print(tweets_df['cyberbullying_type'].value_counts().get(True, 0))\n",
    "print(tweets_df['cyberbullying_type'].value_counts().get(False, 0))"
   ]
  },
  {
   "cell_type": "code",
   "execution_count": 15,
   "metadata": {},
   "outputs": [],
   "source": [
    "# Data splitting\n",
    "text_features = \"tweet_text\"\n",
    "target_feature = \"cyberbullying_type\"\n",
    "data = tweets_df\n",
    "\n",
    "train_data, test_data = train_test_split(data, test_size=0.2, random_state=123)\n",
    "\n",
    "X_train = train_data.drop(columns=target_feature)\n",
    "y_train = train_data[\"cyberbullying_type\"]\n",
    "\n",
    "X_test = test_data.drop(columns=target_feature)\n",
    "y_test = test_data[\"cyberbullying_type\"]"
   ]
  },
  {
   "cell_type": "markdown",
   "metadata": {},
   "source": [
    "### Text Processing\n",
    "Define TF-IDF to pre-process the text data into vector representations"
   ]
  },
  {
   "cell_type": "code",
   "execution_count": 7,
   "metadata": {},
   "outputs": [],
   "source": [
    "# TF-IDF definition\n",
    "TFIDF = TfidfVectorizer(lowercase = False)"
   ]
  },
  {
   "cell_type": "markdown",
   "metadata": {
    "id": "plZ1DxWcXOIb"
   },
   "source": [
    "### Model Definition\n",
    "Defining transformers for text pre-processing and model pipelines"
   ]
  },
  {
   "cell_type": "code",
   "execution_count": 8,
   "metadata": {},
   "outputs": [],
   "source": [
    "# TF-IDF pre-processor transformer\n",
    "TFIDF_preprocessor = ColumnTransformer(\n",
    "    transformers=[\n",
    "        ('text', TFIDF, text_features)\n",
    "    ],\n",
    "    remainder='passthrough'\n",
    ")"
   ]
  },
  {
   "cell_type": "code",
   "execution_count": 9,
   "metadata": {},
   "outputs": [],
   "source": [
    "# Model pipelines\n",
    "\n",
    "# LinearSVM + TF-IDF pipeline\n",
    "linear_svm_tfidf = Pipeline(\n",
    "    steps = [\n",
    "        (\"transformer\", TFIDF_preprocessor),\n",
    "        (\"linearsvm\", LinearSVC(random_state=123, class_weight='balanced'))\n",
    "    ]\n",
    ")"
   ]
  },
  {
   "cell_type": "code",
   "execution_count": 10,
   "metadata": {},
   "outputs": [],
   "source": [
    "# LR + TF-IDF pipeline\n",
    "lr_tfidf = Pipeline(\n",
    "    steps = [\n",
    "        (\"transformer\", TFIDF_preprocessor),\n",
    "        (\"lr\", LogisticRegression(random_state=123,class_weight='balanced'))\n",
    "    ]\n",
    ")"
   ]
  },
  {
   "cell_type": "markdown",
   "metadata": {
    "id": "kmfqpfzAYWSn"
   },
   "source": [
    "### Hyperparameter Settings\n",
    "Hyperparameters for Logistic Regression (LR) and LinearSVM classification models"
   ]
  },
  {
   "cell_type": "code",
   "execution_count": 11,
   "metadata": {},
   "outputs": [],
   "source": [
    "CV = 5\n",
    "\n",
    "svm_param_grid = {\n",
    "    'svm__C': [1, 10, 100, 1000],\n",
    "    'svm__gamma': [1, 0.1, 0.001, 0.0001],\n",
    "    'svm__kernel': ['linear', 'rbf', 'poly'],\n",
    "}\n",
    "\n",
    "linear_svm_param_grid = {\n",
    "    'linearsvm__C': [0.001, 0.01, 1, 10, 100],\n",
    "    'linearsvm__max_iter': [10000, 20000, 50000],\n",
    "    'linearsvm__tol': [1e-2, 1e-4, 1e-6],\n",
    "}\n",
    "\n",
    "lr_param_grid = {\n",
    "    'lr__C': [0.1, 1, 10, 100],\n",
    "    'lr__penalty': [None, 'l1', 'l2', 'elasticnet'],\n",
    "    'lr__max_iter': [250, 500, 1000],\n",
    "    'lr__fit_intercept': [True, False],\n",
    "    'lr__solver': ['lbfgs', 'liblinear', 'sag', 'saga', 'newton-cg']\n",
    "}"
   ]
  },
  {
   "cell_type": "markdown",
   "metadata": {
    "id": "2Ie9684TZC-d"
   },
   "source": [
    "### LinearSVM Hyperparameter Tuning\n",
    "Hyperparameter tuning using GridSearchCV for `linear_svm_tfidf`"
   ]
  },
  {
   "cell_type": "code",
   "execution_count": null,
   "metadata": {
    "id": "1tImceAXZeXs"
   },
   "outputs": [],
   "source": [
    "linear_svm_tfidf_grid = GridSearchCV(linear_svm_tfidf, linear_svm_param_grid, cv=CV, n_jobs=-1, verbose=2)\n",
    "linear_svm_tfidf_grid.fit(X_train, y_train)\n",
    "linear_svm_tfidf_results = pd.DataFrame(linear_svm_tfidf_grid.cv_results_)\n",
    "linear_svm_tfidf_results.to_csv('linear_svm_tfidf_results.csv', index=False)\n",
    "\n",
    "sorted_linear_svm_tfidf_results = linear_svm_tfidf_results.sort_values(by=[\"rank_test_score\", \"mean_fit_time\"], ascending=[True, True])\n",
    "linear_svm_tfidf_best_params = sorted_linear_svm_tfidf_results.iloc[0][\"params\"]\n",
    "print(f\"Best Params: {linear_svm_tfidf_best_params}\")"
   ]
  },
  {
   "cell_type": "markdown",
   "metadata": {
    "id": "R247OU8vfRjz"
   },
   "source": [
    "### Logistic Regression (LR) Hyperparameter Tuning\n",
    "Hyperparameter tuning using GridSearchCV for `lr_tfidf`"
   ]
  },
  {
   "cell_type": "code",
   "execution_count": null,
   "metadata": {
    "colab": {
     "background_save": true,
     "base_uri": "https://localhost:8080/"
    },
    "id": "_dQ3gZEhfcl9",
    "outputId": "fdff8aea-65c3-4ced-c800-a33778a1473f"
   },
   "outputs": [],
   "source": [
    "lr_tfidf_grid = GridSearchCV(lr_tfidf, lr_param_grid, cv=CV, n_jobs=-1, verbose=2)\n",
    "lr_tfidf_grid.fit(X_train, y_train)\n",
    "lr_tfidf_results = pd.DataFrame(lr_tfidf_grid.cv_results_)\n",
    "lr_tfidf_results.to_csv('lr_tfidf_results.csv', index=False)\n",
    "\n",
    "sorted_lr_tfidf_results = lr_tfidf_results.sort_values(by=[\"rank_test_score\", \"mean_fit_time\"], ascending=[True, True])\n",
    "lr_tfidf_best_params = sorted_lr_tfidf_results.iloc[0][\"params\"]\n",
    "print(f\"Best Params: {lr_tfidf_best_params}\")"
   ]
  },
  {
   "cell_type": "markdown",
   "metadata": {
    "id": "cb8ix_jLqn66"
   },
   "source": [
    "### Best Models\n",
    "Best parameters for the LinearSVM and LR models"
   ]
  },
  {
   "cell_type": "code",
   "execution_count": 14,
   "metadata": {
    "id": "phK5fO2DqsN-"
   },
   "outputs": [
    {
     "name": "stdout",
     "output_type": "stream",
     "text": [
      "svm fitted!\n"
     ]
    }
   ],
   "source": [
    "# Best LinearSVM\n",
    "linear_svm_tfidf.set_params(**linear_svm_tfidf_best_params)\n",
    "linear_svm_tfidf.fit(X_train, y_train)\n",
    "print(\"svm fitted!\")"
   ]
  },
  {
   "cell_type": "code",
   "execution_count": 15,
   "metadata": {
    "id": "Mh366vV4rTQn"
   },
   "outputs": [
    {
     "name": "stdout",
     "output_type": "stream",
     "text": [
      "lr fitted!\n"
     ]
    }
   ],
   "source": [
    "# Best LR\n",
    "lr_tfidf.set_params(**lr_tfidf_best_params)\n",
    "lr_tfidf.fit(X_train, y_train)\n",
    "print(\"lr fitted!\")"
   ]
  },
  {
   "cell_type": "markdown",
   "metadata": {},
   "source": [
    "### Save Model"
   ]
  },
  {
   "cell_type": "code",
   "execution_count": null,
   "metadata": {},
   "outputs": [],
   "source": [
    "with open(\"linear_svm.pkl\", \"wb\") as f:\n",
    "    dump(linear_svm_tfidf, f, protocol=5)"
   ]
  },
  {
   "cell_type": "code",
   "execution_count": 17,
   "metadata": {},
   "outputs": [],
   "source": [
    "with open(\"lr.pkl\", \"wb\") as f:\n",
    "    dump(lr_tfidf, f, protocol=5)"
   ]
  },
  {
   "cell_type": "markdown",
   "metadata": {},
   "source": [
    "### Load Model"
   ]
  },
  {
   "cell_type": "code",
   "execution_count": 7,
   "metadata": {},
   "outputs": [],
   "source": [
    "with open(\"linear_svm.pkl\", \"rb\") as f:\n",
    "    linear_svm_tfidf = load(f)"
   ]
  },
  {
   "cell_type": "code",
   "execution_count": 4,
   "metadata": {},
   "outputs": [],
   "source": [
    "with open(\"lr.pkl\", \"rb\") as f:\n",
    "    lr_tfidf = load(f)"
   ]
  },
  {
   "cell_type": "code",
   "execution_count": 22,
   "metadata": {},
   "outputs": [
    {
     "data": {
      "text/plain": [
       "array([ True,  True,  True, ...,  True,  True,  True])"
      ]
     },
     "execution_count": 22,
     "metadata": {},
     "output_type": "execute_result"
    }
   ],
   "source": [
    "example = pd.DataFrame({'tweet_text': [\"hey man\"]})\n",
    "lr_tfidf.predict(X_test)"
   ]
  },
  {
   "cell_type": "markdown",
   "metadata": {
    "id": "THiBk07srR-9"
   },
   "source": [
    "### Confusion Matrices and Scores\n",
    "\n",
    "Confusion matrix plots and metric scores for all models"
   ]
  },
  {
   "cell_type": "code",
   "execution_count": 16,
   "metadata": {
    "id": "LmU33wCArb0S"
   },
   "outputs": [
    {
     "data": {
      "image/png": "[encoded data removed]",
      "text/plain": [
       "<Figure size 1000x1000 with 4 Axes>"
      ]
     },
     "metadata": {},
     "output_type": "display_data"
    },
    {
     "data": {
      "text/html": [
       "<div>\n",
       "<style scoped>\n",
       "    .dataframe tbody tr th:only-of-type {\n",
       "        vertical-align: middle;\n",
       "    }\n",
       "\n",
       "    .dataframe tbody tr th {\n",
       "        vertical-align: top;\n",
       "    }\n",
       "\n",
       "    .dataframe thead th {\n",
       "        text-align: right;\n",
       "    }\n",
       "</style>\n",
       "<table border=\"1\" class=\"dataframe\">\n",
       "  <thead>\n",
       "    <tr style=\"text-align: right;\">\n",
       "      <th></th>\n",
       "      <th>Accuracy</th>\n",
       "      <th>Precision</th>\n",
       "      <th>Recall</th>\n",
       "      <th>F1-Score</th>\n",
       "    </tr>\n",
       "  </thead>\n",
       "  <tbody>\n",
       "    <tr>\n",
       "      <th>LinearSVC - TFIDF</th>\n",
       "      <td>0.860258</td>\n",
       "      <td>0.579082</td>\n",
       "      <td>0.448321</td>\n",
       "      <td>0.505380</td>\n",
       "    </tr>\n",
       "    <tr>\n",
       "      <th>Logistic Regression - TFIDF</th>\n",
       "      <td>0.879128</td>\n",
       "      <td>0.740789</td>\n",
       "      <td>0.370639</td>\n",
       "      <td>0.494076</td>\n",
       "    </tr>\n",
       "  </tbody>\n",
       "</table>\n",
       "</div>"
      ],
      "text/plain": [
       "                             Accuracy  Precision    Recall  F1-Score\n",
       "LinearSVC - TFIDF            0.860258   0.579082  0.448321  0.505380\n",
       "Logistic Regression - TFIDF  0.879128   0.740789  0.370639  0.494076"
      ]
     },
     "metadata": {},
     "output_type": "display_data"
    }
   ],
   "source": [
    "# Best Models\n",
    "models = [linear_svm_tfidf, lr_tfidf]\n",
    "\n",
    "# Model Names\n",
    "model_names = [\n",
    "    \"LinearSVC - TFIDF\",\n",
    "    \"Logistic Regression - TFIDF\"\n",
    "]\n",
    "\n",
    "# Scores\n",
    "scores = {}\n",
    "\n",
    "fig, axes = plt.subplots(4, 1, figsize=(10, 10))\n",
    "\n",
    "for ax, model, name in zip(axes, models, model_names):\n",
    "  ax.set_title(name)\n",
    "\n",
    "  matrix = ConfusionMatrixDisplay.from_estimator(model, X_test, y_test, ax=ax, colorbar=False)\n",
    "\n",
    "  arr = matrix.confusion_matrix\n",
    "\n",
    "  TP = arr[0, 0]\n",
    "  FP = arr[1, 0]\n",
    "  FN = arr[0, 1]\n",
    "  TN = arr[1, 1]\n",
    "\n",
    "  scores[name] = {}\n",
    "\n",
    "  scores[name][\"Accuracy\"] = (TP + TN) / arr.sum()\n",
    "  scores[name][\"Precision\"] = TP / (TP + FP)\n",
    "  scores[name][\"Recall\"] = TP / (TP + FN)\n",
    "  scores[name][\"F1-Score\"] = 2 * (scores[name][\"Precision\"] * scores[name][\"Recall\"]) / (scores[name][\"Precision\"] + scores[name][\"Recall\"])\n",
    "\n",
    "plt.tight_layout()\n",
    "plt.show()\n",
    "display(pd.DataFrame(scores).T)"
   ]
  },
  {
   "cell_type": "code",
   "execution_count": null,
   "metadata": {},
   "outputs": [],
   "source": []
  }
 ],
 "metadata": {
  "kernelspec": {
   "display_name": "Python [conda env:nlp-cyberbully-detector]",
   "language": "python",
   "name": "conda-env-nlp-cyberbully-detector-py"
  },
  "language_info": {
   "codemirror_mode": {
    "name": "ipython",
    "version": 3
   },
   "file_extension": ".py",
   "mimetype": "text/x-python",
   "name": "python",
   "nbconvert_exporter": "python",
   "pygments_lexer": "ipython3",
   "version": "3.12.8"
  }
 },
 "nbformat": 4,
 "nbformat_minor": 4
}
