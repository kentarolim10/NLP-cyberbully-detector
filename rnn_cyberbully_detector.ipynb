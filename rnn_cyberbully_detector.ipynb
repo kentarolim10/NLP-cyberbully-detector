{
 "cells": [
  {
   "cell_type": "code",
   "execution_count": 1,
   "id": "f1f332ab-01a3-47b3-ab52-5f4125c360b4",
   "metadata": {},
   "outputs": [],
   "source": [
    "import numpy as np\n",
    "import pandas as pd\n",
    "from tensorflow.keras.models import Sequential\n",
    "from tensorflow.keras.layers import Embedding, LSTM, Dense, Dropout\n",
    "from tensorflow.keras.preprocessing.text import Tokenizer\n",
    "from tensorflow.keras.preprocessing.sequence import pad_sequences\n",
    "from sklearn.model_selection import train_test_split\n",
    "from sklearn.metrics import classification_report\n",
    "import keras_tuner as kt"
   ]
  },
  {
   "cell_type": "code",
   "execution_count": null,
   "id": "58fd4b4d-1d60-4018-9f24-fd336b5f359b",
   "metadata": {},
   "outputs": [],
   "source": [
    "def restructure_dataset(df,aggressive):\n",
    "    df = df.copy()\n",
    "    df.drop(axis=1,columns=['No.'],inplace=True)\n",
    "    # df['Message'] = df['Message'].replace([NaN], pd.NA)\n",
    "    df[\"Message\"] = df[\"Message\"].astype('string') \n",
    "    df['Message'] = df['Message'].replace({pd.NA: None})\n",
    "    df = df.dropna(subset=['Message'])\n",
    "    df[\"Cyberbullying\"] = aggressive\n",
    "    return df"
   ]
  },
  {
   "cell_type": "code",
   "execution_count": 2,
   "id": "24dc2b76-0b95-4b12-9fbb-a91e1ded5a36",
   "metadata": {},
   "outputs": [
    {
     "data": {
      "text/html": [
       "<div>\n",
       "<style scoped>\n",
       "    .dataframe tbody tr th:only-of-type {\n",
       "        vertical-align: middle;\n",
       "    }\n",
       "\n",
       "    .dataframe tbody tr th {\n",
       "        vertical-align: top;\n",
       "    }\n",
       "\n",
       "    .dataframe thead th {\n",
       "        text-align: right;\n",
       "    }\n",
       "</style>\n",
       "<table border=\"1\" class=\"dataframe\">\n",
       "  <thead>\n",
       "    <tr style=\"text-align: right;\">\n",
       "      <th></th>\n",
       "      <th>tweet_text</th>\n",
       "      <th>cyberbullying_type</th>\n",
       "    </tr>\n",
       "  </thead>\n",
       "  <tbody>\n",
       "    <tr>\n",
       "      <th>0</th>\n",
       "      <td>In other words #katandandre, your food was cra...</td>\n",
       "      <td>not_cyberbullying</td>\n",
       "    </tr>\n",
       "    <tr>\n",
       "      <th>1</th>\n",
       "      <td>Why is #aussietv so white? #MKR #theblock #ImA...</td>\n",
       "      <td>not_cyberbullying</td>\n",
       "    </tr>\n",
       "    <tr>\n",
       "      <th>2</th>\n",
       "      <td>@XochitlSuckkks a classy whore? Or more red ve...</td>\n",
       "      <td>not_cyberbullying</td>\n",
       "    </tr>\n",
       "    <tr>\n",
       "      <th>3</th>\n",
       "      <td>@Jason_Gio meh. :P  thanks for the heads up, b...</td>\n",
       "      <td>not_cyberbullying</td>\n",
       "    </tr>\n",
       "    <tr>\n",
       "      <th>4</th>\n",
       "      <td>@RudhoeEnglish This is an ISIS account pretend...</td>\n",
       "      <td>not_cyberbullying</td>\n",
       "    </tr>\n",
       "    <tr>\n",
       "      <th>...</th>\n",
       "      <td>...</td>\n",
       "      <td>...</td>\n",
       "    </tr>\n",
       "    <tr>\n",
       "      <th>47687</th>\n",
       "      <td>Black ppl aren't expected to do anything, depe...</td>\n",
       "      <td>ethnicity</td>\n",
       "    </tr>\n",
       "    <tr>\n",
       "      <th>47688</th>\n",
       "      <td>Turner did not withhold his disappointment. Tu...</td>\n",
       "      <td>ethnicity</td>\n",
       "    </tr>\n",
       "    <tr>\n",
       "      <th>47689</th>\n",
       "      <td>I swear to God. This dumb nigger bitch. I have...</td>\n",
       "      <td>ethnicity</td>\n",
       "    </tr>\n",
       "    <tr>\n",
       "      <th>47690</th>\n",
       "      <td>Yea fuck you RT @therealexel: IF YOURE A NIGGE...</td>\n",
       "      <td>ethnicity</td>\n",
       "    </tr>\n",
       "    <tr>\n",
       "      <th>47691</th>\n",
       "      <td>Bro. U gotta chill RT @CHILLShrammy: Dog FUCK ...</td>\n",
       "      <td>ethnicity</td>\n",
       "    </tr>\n",
       "  </tbody>\n",
       "</table>\n",
       "<p>47692 rows × 2 columns</p>\n",
       "</div>"
      ],
      "text/plain": [
       "                                              tweet_text cyberbullying_type\n",
       "0      In other words #katandandre, your food was cra...  not_cyberbullying\n",
       "1      Why is #aussietv so white? #MKR #theblock #ImA...  not_cyberbullying\n",
       "2      @XochitlSuckkks a classy whore? Or more red ve...  not_cyberbullying\n",
       "3      @Jason_Gio meh. :P  thanks for the heads up, b...  not_cyberbullying\n",
       "4      @RudhoeEnglish This is an ISIS account pretend...  not_cyberbullying\n",
       "...                                                  ...                ...\n",
       "47687  Black ppl aren't expected to do anything, depe...          ethnicity\n",
       "47688  Turner did not withhold his disappointment. Tu...          ethnicity\n",
       "47689  I swear to God. This dumb nigger bitch. I have...          ethnicity\n",
       "47690  Yea fuck you RT @therealexel: IF YOURE A NIGGE...          ethnicity\n",
       "47691  Bro. U gotta chill RT @CHILLShrammy: Dog FUCK ...          ethnicity\n",
       "\n",
       "[47692 rows x 2 columns]"
      ]
     },
     "execution_count": 2,
     "metadata": {},
     "output_type": "execute_result"
    }
   ],
   "source": [
    "aggressive_df = pd.read_csv(\"data/Aggressive.csv\")\n",
    "aggressive_df = restructure_dataset(aggressive_df,True)\n",
    "aggressive_df"
   ]
  },
  {
   "cell_type": "code",
   "execution_count": null,
   "id": "0119cde2-beab-45ff-8b64-430869692b03",
   "metadata": {},
   "outputs": [],
   "source": [
    "non_aggressive_df = pd.read_csv(\"data/Non_Aggressive.csv\")\n",
    "non_aggressive_df = restructure_dataset(non_aggressive_df,False)\n",
    "non_aggressive_df"
   ]
  },
  {
   "cell_type": "code",
   "execution_count": 3,
   "id": "817b0f11-f3a8-4467-8182-dc0aba70e2a9",
   "metadata": {},
   "outputs": [],
   "source": [
    "data = pd.concat([aggressive_df,non_aggressive_df])\n",
    "data"
   ]
  },
  {
   "cell_type": "markdown",
   "id": "a47567c8-c051-4a9f-acdd-3448f3a4f195",
   "metadata": {},
   "source": [
    "### Data splitting"
   ]
  },
  {
   "cell_type": "code",
   "execution_count": 15,
   "id": "c4abc09a-0e92-48de-9deb-a45878509acb",
   "metadata": {},
   "outputs": [],
   "source": [
    "text_features = \"Message\"\n",
    "target_feature = \"Cyberbullying\"\n",
    "\n",
    "train_data, test_data = train_test_split(data, test_size=0.2, random_state=123)\n",
    "\n",
    "X_train = train_data.drop(columns=target_feature)\n",
    "y_train = train_data[target_feature]\n",
    "\n",
    "X_test = test_data.drop(columns=target_feature)\n",
    "y_test = test_data[target_feature]"
   ]
  },
  {
   "cell_type": "markdown",
   "id": "2b738de3-8b66-4326-b75b-6760e4d5f8ff",
   "metadata": {},
   "source": [
    "### Data Preprocessing"
   ]
  },
  {
   "cell_type": "code",
   "execution_count": 16,
   "id": "8ec03464-b4ad-4fef-bcde-12403a3903fa",
   "metadata": {},
   "outputs": [],
   "source": [
    "max_text_length = 280\n",
    "\n",
    "def text_to_sequence(texts):\n",
    "    tokenizer = Tokenizer(num_words=10000)\n",
    "    tokenizer.fit_on_texts(texts)\n",
    "    sequences = tokenizer.texts_to_sequences(texts)\n",
    "    return pad_sequences(sequences, maxlen=max_text_length)"
   ]
  },
  {
   "cell_type": "code",
   "execution_count": 17,
   "id": "1b47b514-1f7b-4362-9791-4cf6d367cb26",
   "metadata": {},
   "outputs": [],
   "source": [
    "X_train[\"Message\"] = text_to_sequence(X_train[\"Message\"])\n",
    "X_test[\"Message\"] = text_to_sequence(X_test[\"Message\"])"
   ]
  },
  {
   "cell_type": "markdown",
   "id": "5961346a-b04e-4675-96ce-0a28474c0fab",
   "metadata": {},
   "source": [
    "### Model Building"
   ]
  },
  {
   "cell_type": "code",
   "execution_count": 8,
   "id": "a1f3e7c3-02e0-45d4-9212-81e92ea20f9c",
   "metadata": {},
   "outputs": [],
   "source": [
    "def model_builder(hp):\n",
    "    model = Sequential()\n",
    "    model.add(Embedding(10000, output_dim=hp.Int('embedding_dim', 50, 200, step=50), input_length=max_text_length))\n",
    "    model.add(LSTM(hp.Int('lstm_units', 32, 128, step=32), return_sequences=False))\n",
    "    model.add(Dropout(hp.Float('dropout_rate', 0.2, 0.5, step=0.1)))\n",
    "    model.add(Dense(1, activation='sigmoid'))\n",
    "    model.compile(optimizer='adam', \n",
    "                  loss='binary_crossentropy',\n",
    "                  metrics=['accuracy'])\n",
    "    return model"
   ]
  },
  {
   "cell_type": "markdown",
   "id": "97de3461-5e6e-408c-aac7-79ea269a01a4",
   "metadata": {},
   "source": [
    "### Hypterparameter Optimization"
   ]
  },
  {
   "cell_type": "code",
   "execution_count": 9,
   "id": "83ed0d59-f5ab-42a7-9e3b-1a1fa1c42025",
   "metadata": {},
   "outputs": [
    {
     "name": "stderr",
     "output_type": "stream",
     "text": [
      "/Users/kentarolim/miniconda3/envs/nlp-cyberbully-detector/lib/python3.12/site-packages/keras/src/layers/core/embedding.py:90: UserWarning: Argument `input_length` is deprecated. Just remove it.\n",
      "  warnings.warn(\n"
     ]
    }
   ],
   "source": [
    "tuner = kt.Hyperband(hypermodel=model_builder,\n",
    "                     objective='val_accuracy',\n",
    "                     max_epochs=5,\n",
    "                     factor=3,\n",
    "                     directory='rnn_results',\n",
    "                     project_name='cyberbullying_detection')\n"
   ]
  },
  {
   "cell_type": "markdown",
   "id": "80b1e7ec-1137-4b47-9a48-e46ac8b4ea8d",
   "metadata": {},
   "source": [
    "### Model fitting"
   ]
  },
  {
   "cell_type": "code",
   "execution_count": 10,
   "id": "8ba2ec81-798f-4d1e-bbdf-b54a8cf4ede4",
   "metadata": {},
   "outputs": [
    {
     "name": "stdout",
     "output_type": "stream",
     "text": [
      "Trial 10 Complete [00h 09m 53s]\n",
      "val_accuracy: 0.8620102405548096\n",
      "\n",
      "Best val_accuracy So Far: 0.8669899106025696\n",
      "Total elapsed time: 01h 03m 50s\n",
      "Epoch 1/20\n"
     ]
    },
    {
     "name": "stderr",
     "output_type": "stream",
     "text": [
      "/Users/kentarolim/miniconda3/envs/nlp-cyberbully-detector/lib/python3.12/site-packages/keras/src/layers/core/embedding.py:90: UserWarning: Argument `input_length` is deprecated. Just remove it.\n",
      "  warnings.warn(\n"
     ]
    },
    {
     "name": "stdout",
     "output_type": "stream",
     "text": [
      "\u001b[1m954/954\u001b[0m \u001b[32m━━━━━━━━━━━━━━━━━━━━\u001b[0m\u001b[37m\u001b[0m \u001b[1m68s\u001b[0m 71ms/step - accuracy: 0.8428 - loss: 0.3388 - val_accuracy: 0.8666 - val_loss: 0.2653\n",
      "Epoch 2/20\n",
      "\u001b[1m954/954\u001b[0m \u001b[32m━━━━━━━━━━━━━━━━━━━━\u001b[0m\u001b[37m\u001b[0m \u001b[1m68s\u001b[0m 71ms/step - accuracy: 0.9020 - loss: 0.2056 - val_accuracy: 0.8645 - val_loss: 0.2829\n",
      "Epoch 3/20\n",
      "\u001b[1m954/954\u001b[0m \u001b[32m━━━━━━━━━━━━━━━━━━━━\u001b[0m\u001b[37m\u001b[0m \u001b[1m62s\u001b[0m 65ms/step - accuracy: 0.9257 - loss: 0.1586 - val_accuracy: 0.8621 - val_loss: 0.3683\n",
      "Epoch 4/20\n",
      "\u001b[1m954/954\u001b[0m \u001b[32m━━━━━━━━━━━━━━━━━━━━\u001b[0m\u001b[37m\u001b[0m \u001b[1m61s\u001b[0m 64ms/step - accuracy: 0.9394 - loss: 0.1240 - val_accuracy: 0.8556 - val_loss: 0.4060\n",
      "Epoch 5/20\n",
      "\u001b[1m954/954\u001b[0m \u001b[32m━━━━━━━━━━━━━━━━━━━━\u001b[0m\u001b[37m\u001b[0m \u001b[1m62s\u001b[0m 65ms/step - accuracy: 0.9505 - loss: 0.0988 - val_accuracy: 0.8447 - val_loss: 0.4735\n",
      "Epoch 6/20\n",
      "\u001b[1m954/954\u001b[0m \u001b[32m━━━━━━━━━━━━━━━━━━━━\u001b[0m\u001b[37m\u001b[0m \u001b[1m62s\u001b[0m 65ms/step - accuracy: 0.9571 - loss: 0.0833 - val_accuracy: 0.8308 - val_loss: 0.5572\n",
      "Epoch 7/20\n",
      "\u001b[1m954/954\u001b[0m \u001b[32m━━━━━━━━━━━━━━━━━━━━\u001b[0m\u001b[37m\u001b[0m \u001b[1m61s\u001b[0m 64ms/step - accuracy: 0.9606 - loss: 0.0774 - val_accuracy: 0.8469 - val_loss: 0.6235\n",
      "Epoch 8/20\n",
      "\u001b[1m954/954\u001b[0m \u001b[32m━━━━━━━━━━━━━━━━━━━━\u001b[0m\u001b[37m\u001b[0m \u001b[1m64s\u001b[0m 67ms/step - accuracy: 0.9645 - loss: 0.0667 - val_accuracy: 0.8439 - val_loss: 0.6551\n",
      "Epoch 9/20\n",
      "\u001b[1m954/954\u001b[0m \u001b[32m━━━━━━━━━━━━━━━━━━━━\u001b[0m\u001b[37m\u001b[0m \u001b[1m63s\u001b[0m 66ms/step - accuracy: 0.9640 - loss: 0.0636 - val_accuracy: 0.8425 - val_loss: 0.7116\n",
      "Epoch 10/20\n",
      "\u001b[1m954/954\u001b[0m \u001b[32m━━━━━━━━━━━━━━━━━━━━\u001b[0m\u001b[37m\u001b[0m \u001b[1m66s\u001b[0m 69ms/step - accuracy: 0.9678 - loss: 0.0572 - val_accuracy: 0.8405 - val_loss: 0.8359\n",
      "Epoch 11/20\n",
      "\u001b[1m954/954\u001b[0m \u001b[32m━━━━━━━━━━━━━━━━━━━━\u001b[0m\u001b[37m\u001b[0m \u001b[1m62s\u001b[0m 65ms/step - accuracy: 0.9677 - loss: 0.0551 - val_accuracy: 0.8425 - val_loss: 0.7994\n",
      "Epoch 12/20\n",
      "\u001b[1m954/954\u001b[0m \u001b[32m━━━━━━━━━━━━━━━━━━━━\u001b[0m\u001b[37m\u001b[0m \u001b[1m66s\u001b[0m 69ms/step - accuracy: 0.9706 - loss: 0.0504 - val_accuracy: 0.8404 - val_loss: 0.8175\n",
      "Epoch 13/20\n",
      "\u001b[1m954/954\u001b[0m \u001b[32m━━━━━━━━━━━━━━━━━━━━\u001b[0m\u001b[37m\u001b[0m \u001b[1m66s\u001b[0m 69ms/step - accuracy: 0.9702 - loss: 0.0506 - val_accuracy: 0.8363 - val_loss: 0.8897\n",
      "Epoch 14/20\n",
      "\u001b[1m954/954\u001b[0m \u001b[32m━━━━━━━━━━━━━━━━━━━━\u001b[0m\u001b[37m\u001b[0m \u001b[1m67s\u001b[0m 70ms/step - accuracy: 0.9719 - loss: 0.0459 - val_accuracy: 0.8359 - val_loss: 0.9372\n",
      "Epoch 15/20\n",
      "\u001b[1m954/954\u001b[0m \u001b[32m━━━━━━━━━━━━━━━━━━━━\u001b[0m\u001b[37m\u001b[0m \u001b[1m63s\u001b[0m 67ms/step - accuracy: 0.9710 - loss: 0.0472 - val_accuracy: 0.8410 - val_loss: 0.9758\n",
      "Epoch 16/20\n",
      "\u001b[1m954/954\u001b[0m \u001b[32m━━━━━━━━━━━━━━━━━━━━\u001b[0m\u001b[37m\u001b[0m \u001b[1m66s\u001b[0m 69ms/step - accuracy: 0.9702 - loss: 0.0477 - val_accuracy: 0.8421 - val_loss: 1.0105\n",
      "Epoch 17/20\n",
      "\u001b[1m954/954\u001b[0m \u001b[32m━━━━━━━━━━━━━━━━━━━━\u001b[0m\u001b[37m\u001b[0m \u001b[1m61s\u001b[0m 63ms/step - accuracy: 0.9700 - loss: 0.0467 - val_accuracy: 0.8370 - val_loss: 0.9643\n",
      "Epoch 18/20\n",
      "\u001b[1m954/954\u001b[0m \u001b[32m━━━━━━━━━━━━━━━━━━━━\u001b[0m\u001b[37m\u001b[0m \u001b[1m61s\u001b[0m 64ms/step - accuracy: 0.9718 - loss: 0.0439 - val_accuracy: 0.8346 - val_loss: 0.9876\n",
      "Epoch 19/20\n",
      "\u001b[1m954/954\u001b[0m \u001b[32m━━━━━━━━━━━━━━━━━━━━\u001b[0m\u001b[37m\u001b[0m \u001b[1m64s\u001b[0m 67ms/step - accuracy: 0.9720 - loss: 0.0426 - val_accuracy: 0.8348 - val_loss: 1.1207\n",
      "Epoch 20/20\n",
      "\u001b[1m954/954\u001b[0m \u001b[32m━━━━━━━━━━━━━━━━━━━━\u001b[0m\u001b[37m\u001b[0m \u001b[1m67s\u001b[0m 70ms/step - accuracy: 0.9715 - loss: 0.0425 - val_accuracy: 0.8355 - val_loss: 1.0964\n"
     ]
    },
    {
     "ename": "NameError",
     "evalue": "name 'X_test' is not defined",
     "output_type": "error",
     "traceback": [
      "\u001b[0;31m---------------------------------------------------------------------------\u001b[0m",
      "\u001b[0;31mNameError\u001b[0m                                 Traceback (most recent call last)",
      "Cell \u001b[0;32mIn[10], line 8\u001b[0m\n\u001b[1;32m      4\u001b[0m best_model \u001b[38;5;241m=\u001b[39m tuner\u001b[38;5;241m.\u001b[39mhypermodel\u001b[38;5;241m.\u001b[39mbuild(best_hps)\n\u001b[1;32m      6\u001b[0m best_model\u001b[38;5;241m.\u001b[39mfit(X_train, y_train, epochs\u001b[38;5;241m=\u001b[39m\u001b[38;5;241m20\u001b[39m, validation_split\u001b[38;5;241m=\u001b[39m\u001b[38;5;241m0.2\u001b[39m)\n\u001b[0;32m----> 8\u001b[0m y_pred \u001b[38;5;241m=\u001b[39m best_model\u001b[38;5;241m.\u001b[39mpredict(\u001b[43mX_test\u001b[49m)\n\u001b[1;32m      9\u001b[0m \u001b[38;5;28mprint\u001b[39m(classification_report(y_test\u001b[38;5;241m.\u001b[39margmax(axis\u001b[38;5;241m=\u001b[39m\u001b[38;5;241m1\u001b[39m), (y_pred \u001b[38;5;241m>\u001b[39m \u001b[38;5;241m0.5\u001b[39m)\u001b[38;5;241m.\u001b[39mastype(\u001b[38;5;28mint\u001b[39m)))\n",
      "\u001b[0;31mNameError\u001b[0m: name 'X_test' is not defined"
     ]
    }
   ],
   "source": [
    "tuner.search(X_train, y_train, epochs=10, validation_split=0.2)\n",
    "\n",
    "best_hps = tuner.get_best_hyperparameters(num_trials=1)[0]\n",
    "print(best_hps.values)\n",
    "best_model = tuner.hypermodel.build(best_hps)\n",
    "\n",
    "best_model.fit(X_train, y_train, epochs=20, validation_split=0.2)"
   ]
  },
  {
   "cell_type": "code",
   "execution_count": 19,
   "id": "16fdd1b3-9870-4a52-9bde-2cc82b3521ea",
   "metadata": {},
   "outputs": [
    {
     "name": "stdout",
     "output_type": "stream",
     "text": [
      "\u001b[1m299/299\u001b[0m \u001b[32m━━━━━━━━━━━━━━━━━━━━\u001b[0m\u001b[37m\u001b[0m \u001b[1m4s\u001b[0m 13ms/step\n",
      "              precision    recall  f1-score   support\n",
      "\n",
      "       False       0.36      0.29      0.32      1519\n",
      "        True       0.87      0.90      0.89      8020\n",
      "\n",
      "    accuracy                           0.81      9539\n",
      "   macro avg       0.62      0.60      0.60      9539\n",
      "weighted avg       0.79      0.81      0.80      9539\n",
      "\n"
     ]
    }
   ],
   "source": [
    "y_pred = best_model.predict(X_test)\n",
    "print(classification_report(y_test, (y_pred > 0.5).astype(int)))"
   ]
  }
 ],
 "metadata": {
  "kernelspec": {
   "display_name": "Python [conda env:nlp-cyberbully-detector]",
   "language": "python",
   "name": "conda-env-nlp-cyberbully-detector-py"
  },
  "language_info": {
   "codemirror_mode": {
    "name": "ipython",
    "version": 3
   },
   "file_extension": ".py",
   "mimetype": "text/x-python",
   "name": "python",
   "nbconvert_exporter": "python",
   "pygments_lexer": "ipython3",
   "version": "3.12.8"
  }
 },
 "nbformat": 4,
 "nbformat_minor": 5
}
